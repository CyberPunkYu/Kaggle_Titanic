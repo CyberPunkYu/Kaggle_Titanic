{
 "cells": [
  {
   "cell_type": "code",
   "execution_count": 26,
   "metadata": {},
   "outputs": [
    {
     "name": "stdout",
     "output_type": "stream",
     "text": [
      "TensorFlow v2.13.0\n"
     ]
    }
   ],
   "source": [
    "import numpy as np\n",
    "import pandas as pd\n",
    "import tensorflow as tf\n",
    "import matplotlib.pyplot as plt\n",
    "import seaborn as sns\n",
    "# %matplotlib inline\n",
    "print(\"TensorFlow v\" + tf.__version__)"
   ]
  },
  {
   "cell_type": "code",
   "execution_count": 27,
   "metadata": {},
   "outputs": [
    {
     "name": "stdout",
     "output_type": "stream",
     "text": [
      "<class 'pandas.core.frame.DataFrame'>\n",
      "RangeIndex: 8693 entries, 0 to 8692\n",
      "Data columns (total 14 columns):\n",
      " #   Column        Non-Null Count  Dtype  \n",
      "---  ------        --------------  -----  \n",
      " 0   PassengerId   8693 non-null   object \n",
      " 1   HomePlanet    8492 non-null   object \n",
      " 2   CryoSleep     8476 non-null   object \n",
      " 3   Cabin         8494 non-null   object \n",
      " 4   Destination   8511 non-null   object \n",
      " 5   Age           8514 non-null   float64\n",
      " 6   VIP           8490 non-null   object \n",
      " 7   RoomService   8512 non-null   float64\n",
      " 8   FoodCourt     8510 non-null   float64\n",
      " 9   ShoppingMall  8485 non-null   float64\n",
      " 10  Spa           8510 non-null   float64\n",
      " 11  VRDeck        8505 non-null   float64\n",
      " 12  Name          8493 non-null   object \n",
      " 13  Transported   8693 non-null   bool   \n",
      "dtypes: bool(1), float64(6), object(7)\n",
      "memory usage: 891.5+ KB\n"
     ]
    },
    {
     "name": "stderr",
     "output_type": "stream",
     "text": [
      "C:\\Users\\111\\AppData\\Local\\Temp\\ipykernel_18044\\489434985.py:5: FutureWarning: The default value of numeric_only in DataFrame.corr is deprecated. In a future version, it will default to False. Select only valid columns or specify the value of numeric_only to silence this warning.\n",
      "  train.corr()\n"
     ]
    },
    {
     "data": {
      "text/html": [
       "<div>\n",
       "<style scoped>\n",
       "    .dataframe tbody tr th:only-of-type {\n",
       "        vertical-align: middle;\n",
       "    }\n",
       "\n",
       "    .dataframe tbody tr th {\n",
       "        vertical-align: top;\n",
       "    }\n",
       "\n",
       "    .dataframe thead th {\n",
       "        text-align: right;\n",
       "    }\n",
       "</style>\n",
       "<table border=\"1\" class=\"dataframe\">\n",
       "  <thead>\n",
       "    <tr style=\"text-align: right;\">\n",
       "      <th></th>\n",
       "      <th>Age</th>\n",
       "      <th>RoomService</th>\n",
       "      <th>FoodCourt</th>\n",
       "      <th>ShoppingMall</th>\n",
       "      <th>Spa</th>\n",
       "      <th>VRDeck</th>\n",
       "      <th>Transported</th>\n",
       "    </tr>\n",
       "  </thead>\n",
       "  <tbody>\n",
       "    <tr>\n",
       "      <th>Age</th>\n",
       "      <td>1.000000</td>\n",
       "      <td>0.068723</td>\n",
       "      <td>0.130421</td>\n",
       "      <td>0.033133</td>\n",
       "      <td>0.123970</td>\n",
       "      <td>0.101007</td>\n",
       "      <td>-0.075026</td>\n",
       "    </tr>\n",
       "    <tr>\n",
       "      <th>RoomService</th>\n",
       "      <td>0.068723</td>\n",
       "      <td>1.000000</td>\n",
       "      <td>-0.015889</td>\n",
       "      <td>0.054480</td>\n",
       "      <td>0.010080</td>\n",
       "      <td>-0.019581</td>\n",
       "      <td>-0.244611</td>\n",
       "    </tr>\n",
       "    <tr>\n",
       "      <th>FoodCourt</th>\n",
       "      <td>0.130421</td>\n",
       "      <td>-0.015889</td>\n",
       "      <td>1.000000</td>\n",
       "      <td>-0.014228</td>\n",
       "      <td>0.221891</td>\n",
       "      <td>0.227995</td>\n",
       "      <td>0.046566</td>\n",
       "    </tr>\n",
       "    <tr>\n",
       "      <th>ShoppingMall</th>\n",
       "      <td>0.033133</td>\n",
       "      <td>0.054480</td>\n",
       "      <td>-0.014228</td>\n",
       "      <td>1.000000</td>\n",
       "      <td>0.013879</td>\n",
       "      <td>-0.007322</td>\n",
       "      <td>0.010141</td>\n",
       "    </tr>\n",
       "    <tr>\n",
       "      <th>Spa</th>\n",
       "      <td>0.123970</td>\n",
       "      <td>0.010080</td>\n",
       "      <td>0.221891</td>\n",
       "      <td>0.013879</td>\n",
       "      <td>1.000000</td>\n",
       "      <td>0.153821</td>\n",
       "      <td>-0.221131</td>\n",
       "    </tr>\n",
       "    <tr>\n",
       "      <th>VRDeck</th>\n",
       "      <td>0.101007</td>\n",
       "      <td>-0.019581</td>\n",
       "      <td>0.227995</td>\n",
       "      <td>-0.007322</td>\n",
       "      <td>0.153821</td>\n",
       "      <td>1.000000</td>\n",
       "      <td>-0.207075</td>\n",
       "    </tr>\n",
       "    <tr>\n",
       "      <th>Transported</th>\n",
       "      <td>-0.075026</td>\n",
       "      <td>-0.244611</td>\n",
       "      <td>0.046566</td>\n",
       "      <td>0.010141</td>\n",
       "      <td>-0.221131</td>\n",
       "      <td>-0.207075</td>\n",
       "      <td>1.000000</td>\n",
       "    </tr>\n",
       "  </tbody>\n",
       "</table>\n",
       "</div>"
      ],
      "text/plain": [
       "                   Age  RoomService  FoodCourt  ShoppingMall       Spa  \\\n",
       "Age           1.000000     0.068723   0.130421      0.033133  0.123970   \n",
       "RoomService   0.068723     1.000000  -0.015889      0.054480  0.010080   \n",
       "FoodCourt     0.130421    -0.015889   1.000000     -0.014228  0.221891   \n",
       "ShoppingMall  0.033133     0.054480  -0.014228      1.000000  0.013879   \n",
       "Spa           0.123970     0.010080   0.221891      0.013879  1.000000   \n",
       "VRDeck        0.101007    -0.019581   0.227995     -0.007322  0.153821   \n",
       "Transported  -0.075026    -0.244611   0.046566      0.010141 -0.221131   \n",
       "\n",
       "                VRDeck  Transported  \n",
       "Age           0.101007    -0.075026  \n",
       "RoomService  -0.019581    -0.244611  \n",
       "FoodCourt     0.227995     0.046566  \n",
       "ShoppingMall -0.007322     0.010141  \n",
       "Spa           0.153821    -0.221131  \n",
       "VRDeck        1.000000    -0.207075  \n",
       "Transported  -0.207075     1.000000  "
      ]
     },
     "execution_count": 27,
     "metadata": {},
     "output_type": "execute_result"
    }
   ],
   "source": [
    "train = pd.read_csv('./spaceship-titanic/train.csv')\n",
    "test = pd.read_csv('./spaceship-titanic/test.csv')\n",
    "train.describe()\n",
    "train.info()\n",
    "train.corr()"
   ]
  },
  {
   "cell_type": "code",
   "execution_count": 28,
   "metadata": {},
   "outputs": [
    {
     "data": {
      "text/plain": [
       "<AxesSubplot:xlabel='Destination', ylabel='Transported'>"
      ]
     },
     "execution_count": 28,
     "metadata": {},
     "output_type": "execute_result"
    },
    {
     "data": {
      "image/png": "[encoded data removed]",
      "text/plain": [
       "<Figure size 800x500 with 4 Axes>"
      ]
     },
     "metadata": {},
     "output_type": "display_data"
    }
   ],
   "source": [
    "fig, ax =plt.subplots(2,2,constrained_layout=True, figsize=(8, 5))\n",
    "sns.barplot(x='HomePlanet', y='Transported', data=train, ax=ax[0][0])\n",
    "sns.barplot(x='VIP', y='Transported', data=train, ax=ax[0][1])\n",
    "sns.barplot(x='CryoSleep', y='Transported', data=train, ax=ax[1][0])\n",
    "sns.barplot(x='Destination', y='Transported', data=train, ax=ax[1][1])\n"
   ]
  },
  {
   "cell_type": "code",
   "execution_count": 29,
   "metadata": {},
   "outputs": [
    {
     "data": {
      "image/png": "[encoded data removed]",
      "text/plain": [
       "<Figure size 1500x500 with 5 Axes>"
      ]
     },
     "metadata": {},
     "output_type": "display_data"
    }
   ],
   "source": [
    "fig, ax =plt.subplots(1,5,constrained_layout=True, figsize=(15, 5))\n",
    "sns.histplot(train['RoomService'], color='b', bins=50, ax=ax[0]);\n",
    "sns.histplot(train['FoodCourt'], color='b', bins=50, ax=ax[1]);\n",
    "sns.histplot(train['ShoppingMall'], color='b', bins=50, ax=ax[2]);\n",
    "sns.histplot(train['Spa'], color='b', bins=50, ax=ax[3]);\n",
    "sns.histplot(train['VRDeck'], color='b', bins=50, ax=ax[4]);"
   ]
  },
  {
   "cell_type": "markdown",
   "metadata": {},
   "source": [
    "增加对数据的可视化部分，方便理解数据的分布情况，同时我们可以通过各个属性和预测值的关系来判断是否需要抛弃某些属性，如姓名等."
   ]
  },
  {
   "cell_type": "code",
   "execution_count": 30,
   "metadata": {},
   "outputs": [
    {
     "data": {
      "text/plain": [
       "PassengerId     0.000000\n",
       "HomePlanet      0.023122\n",
       "CryoSleep       0.024963\n",
       "Cabin           0.022892\n",
       "Destination     0.020936\n",
       "Age             0.020591\n",
       "VIP             0.023352\n",
       "RoomService     0.020821\n",
       "FoodCourt       0.021051\n",
       "ShoppingMall    0.023927\n",
       "Spa             0.021051\n",
       "VRDeck          0.021627\n",
       "Name            0.023007\n",
       "Transported     0.000000\n",
       "dtype: float64"
      ]
     },
     "execution_count": 30,
     "metadata": {},
     "output_type": "execute_result"
    }
   ],
   "source": [
    "train.isnull().mean() # check missing values"
   ]
  },
  {
   "cell_type": "code",
   "execution_count": 31,
   "metadata": {},
   "outputs": [],
   "source": [
    "# 将Cabin列中的数据用/分割成单独的列\n",
    "train[['Deck','Num','Side']] = train['Cabin'].str.split('/',expand=True)\n",
    "test[['Deck','Num','Side']] = test['Cabin'].str.split('/',expand=True)\n",
    "\n",
    "# 抛弃其中不需要的值\n",
    "train = train.drop(['Num'],axis=1)\n",
    "test = test.drop(['Num'],axis=1)\n",
    "\n",
    "# 抛弃Cabin等列\n",
    "train.drop(['Cabin', 'PassengerId', 'Name'], axis=1, inplace=True)\n",
    "test.drop(['Cabin', 'PassengerId', 'Name'], axis=1, inplace=True)"
   ]
  },
  {
   "cell_type": "code",
   "execution_count": 32,
   "metadata": {},
   "outputs": [],
   "source": [
    "# 处理Age\n",
    "train['Age'].fillna(train['Age'].mean(), inplace=True)\n",
    "test['Age'].fillna(test['Age'].mean(), inplace=True)"
   ]
  },
  {
   "cell_type": "code",
   "execution_count": 33,
   "metadata": {},
   "outputs": [],
   "source": [
    "# 处理HomePlanet和Destination\n",
    "train['HomePlanet'].fillna(train['HomePlanet'].mode()[0], inplace=True)\n",
    "train['Destination'].fillna(train['Destination'].mode()[0], inplace=True)\n",
    "test['HomePlanet'].fillna(test['HomePlanet'].mode()[0], inplace=True)\n",
    "test['Destination'].fillna(test['Destination'].mode()[0], inplace=True)"
   ]
  },
  {
   "cell_type": "code",
   "execution_count": 34,
   "metadata": {},
   "outputs": [],
   "source": [
    "# 处理VIP和CryoSleep\n",
    "train['VIP'].fillna(train['VIP'].mode()[0], inplace=True)\n",
    "train['CryoSleep'].fillna(train['CryoSleep'].mode()[0], inplace=True)\n",
    "test['VIP'].fillna(test['VIP'].mode()[0], inplace=True)\n",
    "test['CryoSleep'].fillna(test['CryoSleep'].mode()[0], inplace=True)\n",
    "# 将bool值转换为int\n",
    "train['VIP'] = train['VIP'].astype(int)\n",
    "train['CryoSleep'] = train['CryoSleep'].astype(int)\n",
    "test['VIP'] = test['VIP'].astype(int)\n",
    "test['CryoSleep'] = test['CryoSleep'].astype(int)"
   ]
  },
  {
   "cell_type": "code",
   "execution_count": 35,
   "metadata": {},
   "outputs": [],
   "source": [
    "# 处理RoomService, FoodCourt, ShoppingMall, Spa, VRDeck\n",
    "train['RoomService'].fillna(train['RoomService'].mean(), inplace=True)\n",
    "train['FoodCourt'].fillna(train['FoodCourt'].mean(), inplace=True)\n",
    "train['ShoppingMall'].fillna(train['ShoppingMall'].mean(), inplace=True)\n",
    "train['Spa'].fillna(train['Spa'].mean(), inplace=True)\n",
    "train['VRDeck'].fillna(train['VRDeck'].mean(), inplace=True)\n",
    "test['RoomService'].fillna(test['RoomService'].mean(), inplace=True)\n",
    "test['FoodCourt'].fillna(test['FoodCourt'].mean(), inplace=True)\n",
    "test['ShoppingMall'].fillna(test['ShoppingMall'].mean(), inplace=True)\n",
    "test['Spa'].fillna(test['Spa'].mean(), inplace=True)\n",
    "test['VRDeck'].fillna(test['VRDeck'].mean(), inplace=True)\n",
    "# 根据数据能发现，CryoSleep为True时，这些值都为0\n",
    "train.loc[train['CryoSleep']==1, ['RoomService', 'FoodCourt', 'ShoppingMall', 'Spa', 'VRDeck']] = 0\n",
    "test.loc[test['CryoSleep']==1, ['RoomService', 'FoodCourt', 'ShoppingMall', 'Spa', 'VRDeck']] = 0"
   ]
  },
  {
   "cell_type": "code",
   "execution_count": 36,
   "metadata": {},
   "outputs": [],
   "source": [
    "# 处理Deck和Side\n",
    "train['Deck'].fillna(train['Deck'].mode()[0], inplace=True)\n",
    "train['Side'].fillna(train['Side'].mode()[0], inplace=True)\n",
    "test['Deck'].fillna(test['Deck'].mode()[0], inplace=True)\n",
    "test['Side'].fillna(test['Side'].mode()[0], inplace=True)"
   ]
  },
  {
   "cell_type": "code",
   "execution_count": 37,
   "metadata": {},
   "outputs": [],
   "source": [
    "train = pd.get_dummies(train)\n",
    "test = pd.get_dummies(test)"
   ]
  },
  {
   "cell_type": "code",
   "execution_count": 38,
   "metadata": {},
   "outputs": [
    {
     "data": {
      "text/plain": [
       "CryoSleep                    0.0\n",
       "Age                          0.0\n",
       "VIP                          0.0\n",
       "RoomService                  0.0\n",
       "FoodCourt                    0.0\n",
       "ShoppingMall                 0.0\n",
       "Spa                          0.0\n",
       "VRDeck                       0.0\n",
       "Transported                  0.0\n",
       "HomePlanet_Earth             0.0\n",
       "HomePlanet_Europa            0.0\n",
       "HomePlanet_Mars              0.0\n",
       "Destination_55 Cancri e      0.0\n",
       "Destination_PSO J318.5-22    0.0\n",
       "Destination_TRAPPIST-1e      0.0\n",
       "Deck_A                       0.0\n",
       "Deck_B                       0.0\n",
       "Deck_C                       0.0\n",
       "Deck_D                       0.0\n",
       "Deck_E                       0.0\n",
       "Deck_F                       0.0\n",
       "Deck_G                       0.0\n",
       "Deck_T                       0.0\n",
       "Side_P                       0.0\n",
       "Side_S                       0.0\n",
       "dtype: float64"
      ]
     },
     "execution_count": 38,
     "metadata": {},
     "output_type": "execute_result"
    }
   ],
   "source": [
    "train.isnull().mean() # check missing values"
   ]
  },
  {
   "cell_type": "code",
   "execution_count": 39,
   "metadata": {},
   "outputs": [
    {
     "name": "stdout",
     "output_type": "stream",
     "text": [
      "<class 'pandas.core.frame.DataFrame'>\n",
      "RangeIndex: 8693 entries, 0 to 8692\n",
      "Data columns (total 25 columns):\n",
      " #   Column                     Non-Null Count  Dtype  \n",
      "---  ------                     --------------  -----  \n",
      " 0   CryoSleep                  8693 non-null   int32  \n",
      " 1   Age                        8693 non-null   float64\n",
      " 2   VIP                        8693 non-null   int32  \n",
      " 3   RoomService                8693 non-null   float64\n",
      " 4   FoodCourt                  8693 non-null   float64\n",
      " 5   ShoppingMall               8693 non-null   float64\n",
      " 6   Spa                        8693 non-null   float64\n",
      " 7   VRDeck                     8693 non-null   float64\n",
      " 8   Transported                8693 non-null   bool   \n",
      " 9   HomePlanet_Earth           8693 non-null   uint8  \n",
      " 10  HomePlanet_Europa          8693 non-null   uint8  \n",
      " 11  HomePlanet_Mars            8693 non-null   uint8  \n",
      " 12  Destination_55 Cancri e    8693 non-null   uint8  \n",
      " 13  Destination_PSO J318.5-22  8693 non-null   uint8  \n",
      " 14  Destination_TRAPPIST-1e    8693 non-null   uint8  \n",
      " 15  Deck_A                     8693 non-null   uint8  \n",
      " 16  Deck_B                     8693 non-null   uint8  \n",
      " 17  Deck_C                     8693 non-null   uint8  \n",
      " 18  Deck_D                     8693 non-null   uint8  \n",
      " 19  Deck_E                     8693 non-null   uint8  \n",
      " 20  Deck_F                     8693 non-null   uint8  \n",
      " 21  Deck_G                     8693 non-null   uint8  \n",
      " 22  Deck_T                     8693 non-null   uint8  \n",
      " 23  Side_P                     8693 non-null   uint8  \n",
      " 24  Side_S                     8693 non-null   uint8  \n",
      "dtypes: bool(1), float64(6), int32(2), uint8(16)\n",
      "memory usage: 619.8 KB\n"
     ]
    }
   ],
   "source": [
    "train.info()"
   ]
  },
  {
   "cell_type": "code",
   "execution_count": 40,
   "metadata": {},
   "outputs": [
    {
     "data": {
      "text/html": [
       "<div>\n",
       "<style scoped>\n",
       "    .dataframe tbody tr th:only-of-type {\n",
       "        vertical-align: middle;\n",
       "    }\n",
       "\n",
       "    .dataframe tbody tr th {\n",
       "        vertical-align: top;\n",
       "    }\n",
       "\n",
       "    .dataframe thead th {\n",
       "        text-align: right;\n",
       "    }\n",
       "</style>\n",
       "<table border=\"1\" class=\"dataframe\">\n",
       "  <thead>\n",
       "    <tr style=\"text-align: right;\">\n",
       "      <th></th>\n",
       "      <th>CryoSleep</th>\n",
       "      <th>Age</th>\n",
       "      <th>VIP</th>\n",
       "      <th>RoomService</th>\n",
       "      <th>FoodCourt</th>\n",
       "      <th>ShoppingMall</th>\n",
       "      <th>Spa</th>\n",
       "      <th>VRDeck</th>\n",
       "      <th>Transported</th>\n",
       "      <th>HomePlanet_Earth</th>\n",
       "      <th>...</th>\n",
       "      <th>Deck_A</th>\n",
       "      <th>Deck_B</th>\n",
       "      <th>Deck_C</th>\n",
       "      <th>Deck_D</th>\n",
       "      <th>Deck_E</th>\n",
       "      <th>Deck_F</th>\n",
       "      <th>Deck_G</th>\n",
       "      <th>Deck_T</th>\n",
       "      <th>Side_P</th>\n",
       "      <th>Side_S</th>\n",
       "    </tr>\n",
       "  </thead>\n",
       "  <tbody>\n",
       "    <tr>\n",
       "      <th>0</th>\n",
       "      <td>0</td>\n",
       "      <td>39.0</td>\n",
       "      <td>0</td>\n",
       "      <td>0.0</td>\n",
       "      <td>0.0</td>\n",
       "      <td>0.0</td>\n",
       "      <td>0.0</td>\n",
       "      <td>0.0</td>\n",
       "      <td>False</td>\n",
       "      <td>0</td>\n",
       "      <td>...</td>\n",
       "      <td>0</td>\n",
       "      <td>1</td>\n",
       "      <td>0</td>\n",
       "      <td>0</td>\n",
       "      <td>0</td>\n",
       "      <td>0</td>\n",
       "      <td>0</td>\n",
       "      <td>0</td>\n",
       "      <td>1</td>\n",
       "      <td>0</td>\n",
       "    </tr>\n",
       "    <tr>\n",
       "      <th>1</th>\n",
       "      <td>0</td>\n",
       "      <td>24.0</td>\n",
       "      <td>0</td>\n",
       "      <td>109.0</td>\n",
       "      <td>9.0</td>\n",
       "      <td>25.0</td>\n",
       "      <td>549.0</td>\n",
       "      <td>44.0</td>\n",
       "      <td>True</td>\n",
       "      <td>1</td>\n",
       "      <td>...</td>\n",
       "      <td>0</td>\n",
       "      <td>0</td>\n",
       "      <td>0</td>\n",
       "      <td>0</td>\n",
       "      <td>0</td>\n",
       "      <td>1</td>\n",
       "      <td>0</td>\n",
       "      <td>0</td>\n",
       "      <td>0</td>\n",
       "      <td>1</td>\n",
       "    </tr>\n",
       "    <tr>\n",
       "      <th>2</th>\n",
       "      <td>0</td>\n",
       "      <td>58.0</td>\n",
       "      <td>1</td>\n",
       "      <td>43.0</td>\n",
       "      <td>3576.0</td>\n",
       "      <td>0.0</td>\n",
       "      <td>6715.0</td>\n",
       "      <td>49.0</td>\n",
       "      <td>False</td>\n",
       "      <td>0</td>\n",
       "      <td>...</td>\n",
       "      <td>1</td>\n",
       "      <td>0</td>\n",
       "      <td>0</td>\n",
       "      <td>0</td>\n",
       "      <td>0</td>\n",
       "      <td>0</td>\n",
       "      <td>0</td>\n",
       "      <td>0</td>\n",
       "      <td>0</td>\n",
       "      <td>1</td>\n",
       "    </tr>\n",
       "    <tr>\n",
       "      <th>3</th>\n",
       "      <td>0</td>\n",
       "      <td>33.0</td>\n",
       "      <td>0</td>\n",
       "      <td>0.0</td>\n",
       "      <td>1283.0</td>\n",
       "      <td>371.0</td>\n",
       "      <td>3329.0</td>\n",
       "      <td>193.0</td>\n",
       "      <td>False</td>\n",
       "      <td>0</td>\n",
       "      <td>...</td>\n",
       "      <td>1</td>\n",
       "      <td>0</td>\n",
       "      <td>0</td>\n",
       "      <td>0</td>\n",
       "      <td>0</td>\n",
       "      <td>0</td>\n",
       "      <td>0</td>\n",
       "      <td>0</td>\n",
       "      <td>0</td>\n",
       "      <td>1</td>\n",
       "    </tr>\n",
       "    <tr>\n",
       "      <th>4</th>\n",
       "      <td>0</td>\n",
       "      <td>16.0</td>\n",
       "      <td>0</td>\n",
       "      <td>303.0</td>\n",
       "      <td>70.0</td>\n",
       "      <td>151.0</td>\n",
       "      <td>565.0</td>\n",
       "      <td>2.0</td>\n",
       "      <td>True</td>\n",
       "      <td>1</td>\n",
       "      <td>...</td>\n",
       "      <td>0</td>\n",
       "      <td>0</td>\n",
       "      <td>0</td>\n",
       "      <td>0</td>\n",
       "      <td>0</td>\n",
       "      <td>1</td>\n",
       "      <td>0</td>\n",
       "      <td>0</td>\n",
       "      <td>0</td>\n",
       "      <td>1</td>\n",
       "    </tr>\n",
       "    <tr>\n",
       "      <th>5</th>\n",
       "      <td>0</td>\n",
       "      <td>44.0</td>\n",
       "      <td>0</td>\n",
       "      <td>0.0</td>\n",
       "      <td>483.0</td>\n",
       "      <td>0.0</td>\n",
       "      <td>291.0</td>\n",
       "      <td>0.0</td>\n",
       "      <td>True</td>\n",
       "      <td>1</td>\n",
       "      <td>...</td>\n",
       "      <td>0</td>\n",
       "      <td>0</td>\n",
       "      <td>0</td>\n",
       "      <td>0</td>\n",
       "      <td>0</td>\n",
       "      <td>1</td>\n",
       "      <td>0</td>\n",
       "      <td>0</td>\n",
       "      <td>1</td>\n",
       "      <td>0</td>\n",
       "    </tr>\n",
       "    <tr>\n",
       "      <th>6</th>\n",
       "      <td>0</td>\n",
       "      <td>26.0</td>\n",
       "      <td>0</td>\n",
       "      <td>42.0</td>\n",
       "      <td>1539.0</td>\n",
       "      <td>3.0</td>\n",
       "      <td>0.0</td>\n",
       "      <td>0.0</td>\n",
       "      <td>True</td>\n",
       "      <td>1</td>\n",
       "      <td>...</td>\n",
       "      <td>0</td>\n",
       "      <td>0</td>\n",
       "      <td>0</td>\n",
       "      <td>0</td>\n",
       "      <td>0</td>\n",
       "      <td>1</td>\n",
       "      <td>0</td>\n",
       "      <td>0</td>\n",
       "      <td>0</td>\n",
       "      <td>1</td>\n",
       "    </tr>\n",
       "    <tr>\n",
       "      <th>7</th>\n",
       "      <td>1</td>\n",
       "      <td>28.0</td>\n",
       "      <td>0</td>\n",
       "      <td>0.0</td>\n",
       "      <td>0.0</td>\n",
       "      <td>0.0</td>\n",
       "      <td>0.0</td>\n",
       "      <td>0.0</td>\n",
       "      <td>True</td>\n",
       "      <td>1</td>\n",
       "      <td>...</td>\n",
       "      <td>0</td>\n",
       "      <td>0</td>\n",
       "      <td>0</td>\n",
       "      <td>0</td>\n",
       "      <td>0</td>\n",
       "      <td>0</td>\n",
       "      <td>1</td>\n",
       "      <td>0</td>\n",
       "      <td>0</td>\n",
       "      <td>1</td>\n",
       "    </tr>\n",
       "    <tr>\n",
       "      <th>8</th>\n",
       "      <td>0</td>\n",
       "      <td>35.0</td>\n",
       "      <td>0</td>\n",
       "      <td>0.0</td>\n",
       "      <td>785.0</td>\n",
       "      <td>17.0</td>\n",
       "      <td>216.0</td>\n",
       "      <td>0.0</td>\n",
       "      <td>True</td>\n",
       "      <td>1</td>\n",
       "      <td>...</td>\n",
       "      <td>0</td>\n",
       "      <td>0</td>\n",
       "      <td>0</td>\n",
       "      <td>0</td>\n",
       "      <td>0</td>\n",
       "      <td>1</td>\n",
       "      <td>0</td>\n",
       "      <td>0</td>\n",
       "      <td>0</td>\n",
       "      <td>1</td>\n",
       "    </tr>\n",
       "    <tr>\n",
       "      <th>9</th>\n",
       "      <td>1</td>\n",
       "      <td>14.0</td>\n",
       "      <td>0</td>\n",
       "      <td>0.0</td>\n",
       "      <td>0.0</td>\n",
       "      <td>0.0</td>\n",
       "      <td>0.0</td>\n",
       "      <td>0.0</td>\n",
       "      <td>True</td>\n",
       "      <td>0</td>\n",
       "      <td>...</td>\n",
       "      <td>0</td>\n",
       "      <td>1</td>\n",
       "      <td>0</td>\n",
       "      <td>0</td>\n",
       "      <td>0</td>\n",
       "      <td>0</td>\n",
       "      <td>0</td>\n",
       "      <td>0</td>\n",
       "      <td>1</td>\n",
       "      <td>0</td>\n",
       "    </tr>\n",
       "  </tbody>\n",
       "</table>\n",
       "<p>10 rows × 25 columns</p>\n",
       "</div>"
      ],
      "text/plain": [
       "   CryoSleep   Age  VIP  RoomService  FoodCourt  ShoppingMall     Spa  VRDeck  \\\n",
       "0          0  39.0    0          0.0        0.0           0.0     0.0     0.0   \n",
       "1          0  24.0    0        109.0        9.0          25.0   549.0    44.0   \n",
       "2          0  58.0    1         43.0     3576.0           0.0  6715.0    49.0   \n",
       "3          0  33.0    0          0.0     1283.0         371.0  3329.0   193.0   \n",
       "4          0  16.0    0        303.0       70.0         151.0   565.0     2.0   \n",
       "5          0  44.0    0          0.0      483.0           0.0   291.0     0.0   \n",
       "6          0  26.0    0         42.0     1539.0           3.0     0.0     0.0   \n",
       "7          1  28.0    0          0.0        0.0           0.0     0.0     0.0   \n",
       "8          0  35.0    0          0.0      785.0          17.0   216.0     0.0   \n",
       "9          1  14.0    0          0.0        0.0           0.0     0.0     0.0   \n",
       "\n",
       "   Transported  HomePlanet_Earth  ...  Deck_A  Deck_B  Deck_C  Deck_D  Deck_E  \\\n",
       "0        False                 0  ...       0       1       0       0       0   \n",
       "1         True                 1  ...       0       0       0       0       0   \n",
       "2        False                 0  ...       1       0       0       0       0   \n",
       "3        False                 0  ...       1       0       0       0       0   \n",
       "4         True                 1  ...       0       0       0       0       0   \n",
       "5         True                 1  ...       0       0       0       0       0   \n",
       "6         True                 1  ...       0       0       0       0       0   \n",
       "7         True                 1  ...       0       0       0       0       0   \n",
       "8         True                 1  ...       0       0       0       0       0   \n",
       "9         True                 0  ...       0       1       0       0       0   \n",
       "\n",
       "   Deck_F  Deck_G  Deck_T  Side_P  Side_S  \n",
       "0       0       0       0       1       0  \n",
       "1       1       0       0       0       1  \n",
       "2       0       0       0       0       1  \n",
       "3       0       0       0       0       1  \n",
       "4       1       0       0       0       1  \n",
       "5       1       0       0       1       0  \n",
       "6       1       0       0       0       1  \n",
       "7       0       1       0       0       1  \n",
       "8       1       0       0       0       1  \n",
       "9       0       0       0       1       0  \n",
       "\n",
       "[10 rows x 25 columns]"
      ]
     },
     "execution_count": 40,
     "metadata": {},
     "output_type": "execute_result"
    }
   ],
   "source": [
    "train.head(10)"
   ]
  },
  {
   "cell_type": "code",
   "execution_count": 41,
   "metadata": {},
   "outputs": [
    {
     "data": {
      "text/html": [
       "<div>\n",
       "<style scoped>\n",
       "    .dataframe tbody tr th:only-of-type {\n",
       "        vertical-align: middle;\n",
       "    }\n",
       "\n",
       "    .dataframe tbody tr th {\n",
       "        vertical-align: top;\n",
       "    }\n",
       "\n",
       "    .dataframe thead th {\n",
       "        text-align: right;\n",
       "    }\n",
       "</style>\n",
       "<table border=\"1\" class=\"dataframe\">\n",
       "  <thead>\n",
       "    <tr style=\"text-align: right;\">\n",
       "      <th></th>\n",
       "      <th>CryoSleep</th>\n",
       "      <th>Age</th>\n",
       "      <th>VIP</th>\n",
       "      <th>RoomService</th>\n",
       "      <th>FoodCourt</th>\n",
       "      <th>ShoppingMall</th>\n",
       "      <th>Spa</th>\n",
       "      <th>VRDeck</th>\n",
       "      <th>HomePlanet_Earth</th>\n",
       "      <th>HomePlanet_Europa</th>\n",
       "      <th>...</th>\n",
       "      <th>Deck_A</th>\n",
       "      <th>Deck_B</th>\n",
       "      <th>Deck_C</th>\n",
       "      <th>Deck_D</th>\n",
       "      <th>Deck_E</th>\n",
       "      <th>Deck_F</th>\n",
       "      <th>Deck_G</th>\n",
       "      <th>Deck_T</th>\n",
       "      <th>Side_P</th>\n",
       "      <th>Side_S</th>\n",
       "    </tr>\n",
       "  </thead>\n",
       "  <tbody>\n",
       "    <tr>\n",
       "      <th>0</th>\n",
       "      <td>1</td>\n",
       "      <td>-0.127486</td>\n",
       "      <td>0</td>\n",
       "      <td>-0.337774</td>\n",
       "      <td>-0.284907</td>\n",
       "      <td>-0.287473</td>\n",
       "      <td>-0.274517</td>\n",
       "      <td>-0.267035</td>\n",
       "      <td>1</td>\n",
       "      <td>0</td>\n",
       "      <td>...</td>\n",
       "      <td>0</td>\n",
       "      <td>0</td>\n",
       "      <td>0</td>\n",
       "      <td>0</td>\n",
       "      <td>0</td>\n",
       "      <td>0</td>\n",
       "      <td>1</td>\n",
       "      <td>0</td>\n",
       "      <td>0</td>\n",
       "      <td>1</td>\n",
       "    </tr>\n",
       "    <tr>\n",
       "      <th>1</th>\n",
       "      <td>0</td>\n",
       "      <td>-0.685435</td>\n",
       "      <td>0</td>\n",
       "      <td>-0.337774</td>\n",
       "      <td>-0.279263</td>\n",
       "      <td>-0.287473</td>\n",
       "      <td>2.234971</td>\n",
       "      <td>-0.267035</td>\n",
       "      <td>1</td>\n",
       "      <td>0</td>\n",
       "      <td>...</td>\n",
       "      <td>0</td>\n",
       "      <td>0</td>\n",
       "      <td>0</td>\n",
       "      <td>0</td>\n",
       "      <td>0</td>\n",
       "      <td>1</td>\n",
       "      <td>0</td>\n",
       "      <td>0</td>\n",
       "      <td>0</td>\n",
       "      <td>1</td>\n",
       "    </tr>\n",
       "    <tr>\n",
       "      <th>2</th>\n",
       "      <td>1</td>\n",
       "      <td>0.151488</td>\n",
       "      <td>0</td>\n",
       "      <td>-0.337774</td>\n",
       "      <td>-0.284907</td>\n",
       "      <td>-0.287473</td>\n",
       "      <td>-0.274517</td>\n",
       "      <td>-0.267035</td>\n",
       "      <td>0</td>\n",
       "      <td>1</td>\n",
       "      <td>...</td>\n",
       "      <td>0</td>\n",
       "      <td>0</td>\n",
       "      <td>1</td>\n",
       "      <td>0</td>\n",
       "      <td>0</td>\n",
       "      <td>0</td>\n",
       "      <td>0</td>\n",
       "      <td>0</td>\n",
       "      <td>0</td>\n",
       "      <td>1</td>\n",
       "    </tr>\n",
       "    <tr>\n",
       "      <th>3</th>\n",
       "      <td>0</td>\n",
       "      <td>0.639693</td>\n",
       "      <td>0</td>\n",
       "      <td>-0.337774</td>\n",
       "      <td>3.885969</td>\n",
       "      <td>-0.287473</td>\n",
       "      <td>-0.113618</td>\n",
       "      <td>0.249072</td>\n",
       "      <td>0</td>\n",
       "      <td>1</td>\n",
       "      <td>...</td>\n",
       "      <td>0</td>\n",
       "      <td>0</td>\n",
       "      <td>1</td>\n",
       "      <td>0</td>\n",
       "      <td>0</td>\n",
       "      <td>0</td>\n",
       "      <td>0</td>\n",
       "      <td>0</td>\n",
       "      <td>0</td>\n",
       "      <td>1</td>\n",
       "    </tr>\n",
       "    <tr>\n",
       "      <th>4</th>\n",
       "      <td>0</td>\n",
       "      <td>-0.615692</td>\n",
       "      <td>0</td>\n",
       "      <td>-0.322622</td>\n",
       "      <td>-0.284907</td>\n",
       "      <td>0.775006</td>\n",
       "      <td>-0.274517</td>\n",
       "      <td>-0.267035</td>\n",
       "      <td>1</td>\n",
       "      <td>0</td>\n",
       "      <td>...</td>\n",
       "      <td>0</td>\n",
       "      <td>0</td>\n",
       "      <td>0</td>\n",
       "      <td>0</td>\n",
       "      <td>0</td>\n",
       "      <td>1</td>\n",
       "      <td>0</td>\n",
       "      <td>0</td>\n",
       "      <td>0</td>\n",
       "      <td>1</td>\n",
       "    </tr>\n",
       "    <tr>\n",
       "      <th>5</th>\n",
       "      <td>0</td>\n",
       "      <td>0.151488</td>\n",
       "      <td>0</td>\n",
       "      <td>-0.337774</td>\n",
       "      <td>0.727716</td>\n",
       "      <td>0.152578</td>\n",
       "      <td>-0.174066</td>\n",
       "      <td>-0.214101</td>\n",
       "      <td>1</td>\n",
       "      <td>0</td>\n",
       "      <td>...</td>\n",
       "      <td>0</td>\n",
       "      <td>0</td>\n",
       "      <td>0</td>\n",
       "      <td>0</td>\n",
       "      <td>0</td>\n",
       "      <td>1</td>\n",
       "      <td>0</td>\n",
       "      <td>0</td>\n",
       "      <td>1</td>\n",
       "      <td>0</td>\n",
       "    </tr>\n",
       "    <tr>\n",
       "      <th>6</th>\n",
       "      <td>1</td>\n",
       "      <td>-0.545948</td>\n",
       "      <td>0</td>\n",
       "      <td>-0.337774</td>\n",
       "      <td>-0.284907</td>\n",
       "      <td>-0.287473</td>\n",
       "      <td>-0.274517</td>\n",
       "      <td>-0.267035</td>\n",
       "      <td>0</td>\n",
       "      <td>1</td>\n",
       "      <td>...</td>\n",
       "      <td>0</td>\n",
       "      <td>1</td>\n",
       "      <td>0</td>\n",
       "      <td>0</td>\n",
       "      <td>0</td>\n",
       "      <td>0</td>\n",
       "      <td>0</td>\n",
       "      <td>0</td>\n",
       "      <td>1</td>\n",
       "      <td>0</td>\n",
       "    </tr>\n",
       "    <tr>\n",
       "      <th>7</th>\n",
       "      <td>1</td>\n",
       "      <td>-0.615692</td>\n",
       "      <td>0</td>\n",
       "      <td>-0.337774</td>\n",
       "      <td>-0.284907</td>\n",
       "      <td>-0.287473</td>\n",
       "      <td>-0.274517</td>\n",
       "      <td>-0.267035</td>\n",
       "      <td>0</td>\n",
       "      <td>1</td>\n",
       "      <td>...</td>\n",
       "      <td>0</td>\n",
       "      <td>0</td>\n",
       "      <td>0</td>\n",
       "      <td>1</td>\n",
       "      <td>0</td>\n",
       "      <td>0</td>\n",
       "      <td>0</td>\n",
       "      <td>0</td>\n",
       "      <td>0</td>\n",
       "      <td>1</td>\n",
       "    </tr>\n",
       "    <tr>\n",
       "      <th>8</th>\n",
       "      <td>1</td>\n",
       "      <td>-0.406461</td>\n",
       "      <td>0</td>\n",
       "      <td>-0.337774</td>\n",
       "      <td>-0.284907</td>\n",
       "      <td>-0.287473</td>\n",
       "      <td>-0.274517</td>\n",
       "      <td>-0.267035</td>\n",
       "      <td>0</td>\n",
       "      <td>1</td>\n",
       "      <td>...</td>\n",
       "      <td>0</td>\n",
       "      <td>0</td>\n",
       "      <td>0</td>\n",
       "      <td>1</td>\n",
       "      <td>0</td>\n",
       "      <td>0</td>\n",
       "      <td>0</td>\n",
       "      <td>0</td>\n",
       "      <td>0</td>\n",
       "      <td>1</td>\n",
       "    </tr>\n",
       "    <tr>\n",
       "      <th>9</th>\n",
       "      <td>0</td>\n",
       "      <td>-0.336717</td>\n",
       "      <td>0</td>\n",
       "      <td>-0.337774</td>\n",
       "      <td>0.115753</td>\n",
       "      <td>-0.287473</td>\n",
       "      <td>-0.274517</td>\n",
       "      <td>-0.267035</td>\n",
       "      <td>1</td>\n",
       "      <td>0</td>\n",
       "      <td>...</td>\n",
       "      <td>0</td>\n",
       "      <td>0</td>\n",
       "      <td>0</td>\n",
       "      <td>0</td>\n",
       "      <td>0</td>\n",
       "      <td>1</td>\n",
       "      <td>0</td>\n",
       "      <td>0</td>\n",
       "      <td>0</td>\n",
       "      <td>1</td>\n",
       "    </tr>\n",
       "  </tbody>\n",
       "</table>\n",
       "<p>10 rows × 24 columns</p>\n",
       "</div>"
      ],
      "text/plain": [
       "   CryoSleep       Age  VIP  RoomService  FoodCourt  ShoppingMall       Spa  \\\n",
       "0          1 -0.127486    0    -0.337774  -0.284907     -0.287473 -0.274517   \n",
       "1          0 -0.685435    0    -0.337774  -0.279263     -0.287473  2.234971   \n",
       "2          1  0.151488    0    -0.337774  -0.284907     -0.287473 -0.274517   \n",
       "3          0  0.639693    0    -0.337774   3.885969     -0.287473 -0.113618   \n",
       "4          0 -0.615692    0    -0.322622  -0.284907      0.775006 -0.274517   \n",
       "5          0  0.151488    0    -0.337774   0.727716      0.152578 -0.174066   \n",
       "6          1 -0.545948    0    -0.337774  -0.284907     -0.287473 -0.274517   \n",
       "7          1 -0.615692    0    -0.337774  -0.284907     -0.287473 -0.274517   \n",
       "8          1 -0.406461    0    -0.337774  -0.284907     -0.287473 -0.274517   \n",
       "9          0 -0.336717    0    -0.337774   0.115753     -0.287473 -0.274517   \n",
       "\n",
       "     VRDeck  HomePlanet_Earth  HomePlanet_Europa  ...  Deck_A  Deck_B  Deck_C  \\\n",
       "0 -0.267035                 1                  0  ...       0       0       0   \n",
       "1 -0.267035                 1                  0  ...       0       0       0   \n",
       "2 -0.267035                 0                  1  ...       0       0       1   \n",
       "3  0.249072                 0                  1  ...       0       0       1   \n",
       "4 -0.267035                 1                  0  ...       0       0       0   \n",
       "5 -0.214101                 1                  0  ...       0       0       0   \n",
       "6 -0.267035                 0                  1  ...       0       1       0   \n",
       "7 -0.267035                 0                  1  ...       0       0       0   \n",
       "8 -0.267035                 0                  1  ...       0       0       0   \n",
       "9 -0.267035                 1                  0  ...       0       0       0   \n",
       "\n",
       "   Deck_D  Deck_E  Deck_F  Deck_G  Deck_T  Side_P  Side_S  \n",
       "0       0       0       0       1       0       0       1  \n",
       "1       0       0       1       0       0       0       1  \n",
       "2       0       0       0       0       0       0       1  \n",
       "3       0       0       0       0       0       0       1  \n",
       "4       0       0       1       0       0       0       1  \n",
       "5       0       0       1       0       0       1       0  \n",
       "6       0       0       0       0       0       1       0  \n",
       "7       1       0       0       0       0       0       1  \n",
       "8       1       0       0       0       0       0       1  \n",
       "9       0       0       1       0       0       0       1  \n",
       "\n",
       "[10 rows x 24 columns]"
      ]
     },
     "execution_count": 41,
     "metadata": {},
     "output_type": "execute_result"
    }
   ],
   "source": [
    "# 归一化处理（补充）使用standardScaler\n",
    "from sklearn.preprocessing import StandardScaler\n",
    "scaler = StandardScaler()\n",
    "train[['Age', 'RoomService', 'FoodCourt', 'ShoppingMall', 'Spa', 'VRDeck']] = scaler.fit_transform(train[['Age', 'RoomService', 'FoodCourt', 'ShoppingMall', 'Spa', 'VRDeck']])\n",
    "test[['Age', 'RoomService', 'FoodCourt', 'ShoppingMall', 'Spa', 'VRDeck']] = scaler.transform(test[['Age', 'RoomService', 'FoodCourt', 'ShoppingMall', 'Spa', 'VRDeck']])\n",
    "test.head(10)"
   ]
  },
  {
   "cell_type": "markdown",
   "metadata": {},
   "source": [
    "完成数据处理前的可视化部分后，需要进行特征工程，对数据进行处理，使其符合模型的要求，如将文本数据转换为数值型数据，将缺失值进行填充，数据拆分，独热编码等。\n",
    "## 可能有如下优化（仅针对特征工程部分）\n",
    "1. 考虑的决策树的特征，如TFDF，xgboost，决策森林等能够自适应特征，先不对特征进行归一化处理，后续可以考虑对特征进行归一化处理，看看是否会有提升。\n",
    "2. Age的取值也很多，将不同Age的人按照年龄分类\n",
    "3. 是否应该考虑特征的语境意义进行不同的处理\n",
    "4. 突然想到Name似乎也能挖掘出性别信息，之后可以考虑\n",
    "5. ID信息包含了同行人数，康康同行人数是否会影响生存率\n",
    "6. Cabin的num抛弃了，不知道有没有实际影响\n",
    "\n",
    "等无聊的时候再慢慢尝试吧，先准备ICR的比赛"
   ]
  },
  {
   "cell_type": "code",
   "execution_count": 42,
   "metadata": {},
   "outputs": [],
   "source": [
    "from sklearn.model_selection import train_test_split\n",
    "from sklearn.metrics import accuracy_score\n",
    "# 数据集划分\n",
    "y = train.Transported.copy()\n",
    "x = train.drop(['Transported'], axis = 1)\n",
    "x_train, x_test, y_train, y_test = train_test_split(x, y, test_size = 0.2, random_state=1)"
   ]
  },
  {
   "cell_type": "code",
   "execution_count": 43,
   "metadata": {},
   "outputs": [
    {
     "data": {
      "text/plain": [
       "0.7941345600920069"
      ]
     },
     "execution_count": 43,
     "metadata": {},
     "output_type": "execute_result"
    }
   ],
   "source": [
    "from sklearn.tree import DecisionTreeClassifier\n",
    "\n",
    "decision_tree = DecisionTreeClassifier(splitter='best', max_depth=8, criterion='entropy', random_state=3)\n",
    "decision_tree.fit(x_train, y_train)\n",
    "decision_tree_pred = decision_tree.predict(x_test)\n",
    "decision_tree_accuracy = accuracy_score(decision_tree_pred, y_test)\n",
    "\n",
    "decision_tree_accuracy"
   ]
  },
  {
   "cell_type": "code",
   "execution_count": 44,
   "metadata": {},
   "outputs": [
    {
     "data": {
      "text/plain": [
       "0.8056354226566993"
      ]
     },
     "execution_count": 44,
     "metadata": {},
     "output_type": "execute_result"
    }
   ],
   "source": [
    "from sklearn.ensemble import RandomForestClassifier\n",
    "\n",
    "random_forest = RandomForestClassifier(n_estimators=25, random_state = 27 ,max_depth = 11)\n",
    "random_forest.fit(x_train, y_train)\n",
    "random_forest_pred = random_forest.predict(x_test)\n",
    "random_forest_accuracy = accuracy_score(random_forest_pred, y_test)\n",
    "\n",
    "random_forest_accuracy"
   ]
  },
  {
   "cell_type": "code",
   "execution_count": 47,
   "metadata": {},
   "outputs": [
    {
     "data": {
      "text/plain": [
       "0.8085106382978723"
      ]
     },
     "execution_count": 47,
     "metadata": {},
     "output_type": "execute_result"
    }
   ],
   "source": [
    "from sklearn.ensemble import GradientBoostingClassifier\n",
    "\n",
    "gbc = GradientBoostingClassifier(random_state = 42)\n",
    "gbc.fit(x_train, y_train)\n",
    "gbc_pred = gbc.predict(x_test)\n",
    "gbc_accuracy = accuracy_score(gbc_pred, y_test)\n",
    "\n",
    "gbc_accuracy\n",
    "# gbc_pred"
   ]
  },
  {
   "cell_type": "code",
   "execution_count": 48,
   "metadata": {},
   "outputs": [
    {
     "name": "stderr",
     "output_type": "stream",
     "text": [
      "c:\\Users\\111\\AppData\\Local\\Programs\\Python\\Python38\\lib\\site-packages\\lightgbm\\engine.py:172: UserWarning: Found `num_iterations` in params. Will use it instead of argument\n",
      "  _log_warning(f\"Found `{alias}` in params. Will use it instead of argument\")\n"
     ]
    },
    {
     "name": "stdout",
     "output_type": "stream",
     "text": [
      "[LightGBM] [Warning] Found whitespace in feature_names, replace with underlines\n",
      "[LightGBM] [Info] Number of positive: 3482, number of negative: 3472\n",
      "[LightGBM] [Warning] Auto-choosing row-wise multi-threading, the overhead of testing was 0.000348 seconds.\n",
      "You can set `force_row_wise=true` to remove the overhead.\n",
      "And if memory is not enough, you can set `force_col_wise=true`.\n",
      "[LightGBM] [Info] Total Bins 1388\n",
      "[LightGBM] [Info] Number of data points in the train set: 6954, number of used features: 23\n",
      "[LightGBM] [Info] [binary:BoostFromScore]: pavg=0.500719 -> initscore=0.002876\n",
      "[LightGBM] [Info] Start training from score 0.002876\n"
     ]
    },
    {
     "data": {
      "text/plain": [
       "0.8131109833237493"
      ]
     },
     "execution_count": 48,
     "metadata": {},
     "output_type": "execute_result"
    }
   ],
   "source": [
    "from lightgbm import LGBMClassifier\n",
    "lgbmc = LGBMClassifier(learning_rate=0.005, num_iterations=775)\n",
    "lgbmc.fit(x_train, y_train)\n",
    "lgbmc_pred = lgbmc.predict(x_test)\n",
    "lgbmc_accuracy = accuracy_score(lgbmc_pred, y_test)\n",
    "\n",
    "lgbmc_accuracy"
   ]
  },
  {
   "cell_type": "code",
   "execution_count": 49,
   "metadata": {},
   "outputs": [
    {
     "data": {
      "text/plain": [
       "0.8050603795284647"
      ]
     },
     "execution_count": 49,
     "metadata": {},
     "output_type": "execute_result"
    }
   ],
   "source": [
    "from sklearn.ensemble import HistGradientBoostingClassifier\n",
    "hgbc = HistGradientBoostingClassifier()\n",
    "hgbc.fit(x_train,y_train)\n",
    "hgbc_pred = hgbc.predict(x_test)\n",
    "hgbc_accuracy = accuracy_score(hgbc_pred, y_test)\n",
    "\n",
    "hgbc_accuracy\n"
   ]
  },
  {
   "cell_type": "code",
   "execution_count": 50,
   "metadata": {},
   "outputs": [
    {
     "data": {
      "text/plain": [
       "0.8056354226566993"
      ]
     },
     "execution_count": 50,
     "metadata": {},
     "output_type": "execute_result"
    }
   ],
   "source": [
    "# 逻辑回归，logistic\n",
    "from sklearn.linear_model import LogisticRegression\n",
    "lr = LogisticRegression(solver='lbfgs')\n",
    "lr.fit(x_train, y_train)\n",
    "lr_pred = lr.predict(x_test)\n",
    "lr_accuracy = accuracy_score(lr_pred, y_test)\n",
    "\n",
    "lr_accuracy"
   ]
  },
  {
   "cell_type": "code",
   "execution_count": 51,
   "metadata": {},
   "outputs": [],
   "source": [
    "# tabfpn\n",
    "# from tabpfn import TabPFNClassifier\n",
    "# tabpfn = TabPFNClassifier(N_ensemble_configurations=24)\n",
    "# tabpfn.fit(x_train, y_train)\n",
    "# tabpfn_pred = tabpfn.predict(x_test)\n",
    "# tabpfn_accuracy = accuracy_score(tabpfn_pred, y_test)\n",
    "\n",
    "# tabpfn_accuracy"
   ]
  },
  {
   "cell_type": "markdown",
   "metadata": {},
   "source": [
    "模型搭建"
   ]
  },
  {
   "cell_type": "code",
   "execution_count": 52,
   "metadata": {},
   "outputs": [
    {
     "name": "stderr",
     "output_type": "stream",
     "text": [
      "c:\\Users\\111\\AppData\\Local\\Programs\\Python\\Python38\\lib\\site-packages\\lightgbm\\engine.py:172: UserWarning: Found `num_iterations` in params. Will use it instead of argument\n",
      "  _log_warning(f\"Found `{alias}` in params. Will use it instead of argument\")\n"
     ]
    },
    {
     "name": "stdout",
     "output_type": "stream",
     "text": [
      "[LightGBM] [Warning] Found whitespace in feature_names, replace with underlines\n",
      "[LightGBM] [Info] Number of positive: 3482, number of negative: 3472\n",
      "[LightGBM] [Warning] Auto-choosing row-wise multi-threading, the overhead of testing was 0.000338 seconds.\n",
      "You can set `force_row_wise=true` to remove the overhead.\n",
      "And if memory is not enough, you can set `force_col_wise=true`.\n",
      "[LightGBM] [Info] Total Bins 1388\n",
      "[LightGBM] [Info] Number of data points in the train set: 6954, number of used features: 23\n",
      "[LightGBM] [Info] [binary:BoostFromScore]: pavg=0.500719 -> initscore=0.002876\n",
      "[LightGBM] [Info] Start training from score 0.002876\n"
     ]
    },
    {
     "data": {
      "text/plain": [
       "0.8154111558366878"
      ]
     },
     "execution_count": 52,
     "metadata": {},
     "output_type": "execute_result"
    }
   ],
   "source": [
    "# 模型融合\n",
    "\n",
    "from sklearn.ensemble import VotingClassifier\n",
    "\n",
    "voting_clf = VotingClassifier(estimators=[('lgbmc', lgbmc), ('hgbc', hgbc), ('gbc', gbc), ('random_forest', random_forest), ('decision_tree', decision_tree)], voting='soft')\n",
    "voting_clf.fit(x_train, y_train)\n",
    "voting_pred = voting_clf.predict(x_test)\n",
    "voting_accuracy = accuracy_score(voting_pred, y_test)\n",
    "\n",
    "voting_accuracy"
   ]
  },
  {
   "cell_type": "code",
   "execution_count": 53,
   "metadata": {},
   "outputs": [
    {
     "name": "stderr",
     "output_type": "stream",
     "text": [
      "c:\\Users\\111\\AppData\\Local\\Programs\\Python\\Python38\\lib\\site-packages\\lightgbm\\engine.py:172: UserWarning: Found `num_iterations` in params. Will use it instead of argument\n",
      "  _log_warning(f\"Found `{alias}` in params. Will use it instead of argument\")\n"
     ]
    },
    {
     "name": "stdout",
     "output_type": "stream",
     "text": [
      "[LightGBM] [Warning] Found whitespace in feature_names, replace with underlines\n",
      "[LightGBM] [Info] Number of positive: 2786, number of negative: 2777\n",
      "[LightGBM] [Warning] Auto-choosing row-wise multi-threading, the overhead of testing was 0.000277 seconds.\n",
      "You can set `force_row_wise=true` to remove the overhead.\n",
      "And if memory is not enough, you can set `force_col_wise=true`.\n",
      "[LightGBM] [Info] Total Bins 1388\n",
      "[LightGBM] [Info] Number of data points in the train set: 5563, number of used features: 23\n",
      "[LightGBM] [Info] [binary:BoostFromScore]: pavg=0.500809 -> initscore=0.003236\n",
      "[LightGBM] [Info] Start training from score 0.003236\n"
     ]
    },
    {
     "name": "stderr",
     "output_type": "stream",
     "text": [
      "c:\\Users\\111\\AppData\\Local\\Programs\\Python\\Python38\\lib\\site-packages\\lightgbm\\engine.py:172: UserWarning: Found `num_iterations` in params. Will use it instead of argument\n",
      "  _log_warning(f\"Found `{alias}` in params. Will use it instead of argument\")\n"
     ]
    },
    {
     "name": "stdout",
     "output_type": "stream",
     "text": [
      "[LightGBM] [Warning] Found whitespace in feature_names, replace with underlines\n",
      "[LightGBM] [Info] Number of positive: 2786, number of negative: 2777\n",
      "[LightGBM] [Warning] Auto-choosing row-wise multi-threading, the overhead of testing was 0.000269 seconds.\n",
      "You can set `force_row_wise=true` to remove the overhead.\n",
      "And if memory is not enough, you can set `force_col_wise=true`.\n",
      "[LightGBM] [Info] Total Bins 1387\n",
      "[LightGBM] [Info] Number of data points in the train set: 5563, number of used features: 23\n",
      "[LightGBM] [Info] [binary:BoostFromScore]: pavg=0.500809 -> initscore=0.003236\n",
      "[LightGBM] [Info] Start training from score 0.003236\n"
     ]
    },
    {
     "name": "stderr",
     "output_type": "stream",
     "text": [
      "c:\\Users\\111\\AppData\\Local\\Programs\\Python\\Python38\\lib\\site-packages\\lightgbm\\engine.py:172: UserWarning: Found `num_iterations` in params. Will use it instead of argument\n",
      "  _log_warning(f\"Found `{alias}` in params. Will use it instead of argument\")\n"
     ]
    },
    {
     "name": "stdout",
     "output_type": "stream",
     "text": [
      "[LightGBM] [Warning] Found whitespace in feature_names, replace with underlines\n",
      "[LightGBM] [Info] Number of positive: 2785, number of negative: 2778\n",
      "[LightGBM] [Warning] Auto-choosing row-wise multi-threading, the overhead of testing was 0.000254 seconds.\n",
      "You can set `force_row_wise=true` to remove the overhead.\n",
      "And if memory is not enough, you can set `force_col_wise=true`.\n",
      "[LightGBM] [Info] Total Bins 1387\n",
      "[LightGBM] [Info] Number of data points in the train set: 5563, number of used features: 23\n",
      "[LightGBM] [Info] [binary:BoostFromScore]: pavg=0.500629 -> initscore=0.002517\n",
      "[LightGBM] [Info] Start training from score 0.002517\n"
     ]
    },
    {
     "name": "stderr",
     "output_type": "stream",
     "text": [
      "c:\\Users\\111\\AppData\\Local\\Programs\\Python\\Python38\\lib\\site-packages\\lightgbm\\engine.py:172: UserWarning: Found `num_iterations` in params. Will use it instead of argument\n",
      "  _log_warning(f\"Found `{alias}` in params. Will use it instead of argument\")\n"
     ]
    },
    {
     "name": "stdout",
     "output_type": "stream",
     "text": [
      "[LightGBM] [Warning] Found whitespace in feature_names, replace with underlines\n",
      "[LightGBM] [Info] Number of positive: 2785, number of negative: 2778\n",
      "[LightGBM] [Warning] Auto-choosing col-wise multi-threading, the overhead of testing was 0.000541 seconds.\n",
      "You can set `force_col_wise=true` to remove the overhead.\n",
      "[LightGBM] [Info] Total Bins 1387\n",
      "[LightGBM] [Info] Number of data points in the train set: 5563, number of used features: 23\n",
      "[LightGBM] [Info] [binary:BoostFromScore]: pavg=0.500629 -> initscore=0.002517\n",
      "[LightGBM] [Info] Start training from score 0.002517\n"
     ]
    },
    {
     "name": "stderr",
     "output_type": "stream",
     "text": [
      "c:\\Users\\111\\AppData\\Local\\Programs\\Python\\Python38\\lib\\site-packages\\lightgbm\\engine.py:172: UserWarning: Found `num_iterations` in params. Will use it instead of argument\n",
      "  _log_warning(f\"Found `{alias}` in params. Will use it instead of argument\")\n"
     ]
    },
    {
     "name": "stdout",
     "output_type": "stream",
     "text": [
      "[LightGBM] [Warning] Found whitespace in feature_names, replace with underlines\n",
      "[LightGBM] [Info] Number of positive: 2786, number of negative: 2778\n",
      "[LightGBM] [Warning] Auto-choosing row-wise multi-threading, the overhead of testing was 0.000215 seconds.\n",
      "You can set `force_row_wise=true` to remove the overhead.\n",
      "And if memory is not enough, you can set `force_col_wise=true`.\n",
      "[LightGBM] [Info] Total Bins 1388\n",
      "[LightGBM] [Info] Number of data points in the train set: 5564, number of used features: 23\n",
      "[LightGBM] [Info] [binary:BoostFromScore]: pavg=0.500719 -> initscore=0.002876\n",
      "[LightGBM] [Info] Start training from score 0.002876\n"
     ]
    },
    {
     "name": "stderr",
     "output_type": "stream",
     "text": [
      "c:\\Users\\111\\AppData\\Local\\Programs\\Python\\Python38\\lib\\site-packages\\lightgbm\\engine.py:172: UserWarning: Found `num_iterations` in params. Will use it instead of argument\n",
      "  _log_warning(f\"Found `{alias}` in params. Will use it instead of argument\")\n"
     ]
    },
    {
     "name": "stdout",
     "output_type": "stream",
     "text": [
      "[LightGBM] [Warning] Found whitespace in feature_names, replace with underlines\n",
      "[LightGBM] [Info] Number of positive: 3482, number of negative: 3472\n",
      "[LightGBM] [Warning] Auto-choosing row-wise multi-threading, the overhead of testing was 0.000396 seconds.\n",
      "You can set `force_row_wise=true` to remove the overhead.\n",
      "And if memory is not enough, you can set `force_col_wise=true`.\n",
      "[LightGBM] [Info] Total Bins 1388\n",
      "[LightGBM] [Info] Number of data points in the train set: 6954, number of used features: 23\n",
      "[LightGBM] [Info] [binary:BoostFromScore]: pavg=0.500719 -> initscore=0.002876\n",
      "[LightGBM] [Info] Start training from score 0.002876\n"
     ]
    },
    {
     "data": {
      "text/plain": [
       "0.8090856814261069"
      ]
     },
     "execution_count": 53,
     "metadata": {},
     "output_type": "execute_result"
    }
   ],
   "source": [
    "# 模型融合 StackingCVClassifier\n",
    "from mlxtend.classifier import StackingCVClassifier\n",
    "# from sklearn.model_selection import cross_val_score\n",
    "\n",
    "sclf = StackingCVClassifier(classifiers=[decision_tree, random_forest, gbc, hgbc, lgbmc], meta_classifier=lr, cv=5)\n",
    "sclf.fit(x_train, y_train)\n",
    "sclf_pred = sclf.predict(x_test)\n",
    "sclf_accuracy = accuracy_score(sclf_pred, y_test)\n",
    "# scores = cross_val_score(sclf, x_train, y_train, cv=3, scoring='accuracy')\n",
    "# print(scores.mean())\n",
    "sclf_accuracy"
   ]
  },
  {
   "cell_type": "code",
   "execution_count": 54,
   "metadata": {},
   "outputs": [
    {
     "name": "stderr",
     "output_type": "stream",
     "text": [
      "c:\\Users\\111\\AppData\\Local\\Programs\\Python\\Python38\\lib\\site-packages\\lightgbm\\engine.py:172: UserWarning: Found `num_iterations` in params. Will use it instead of argument\n",
      "  _log_warning(f\"Found `{alias}` in params. Will use it instead of argument\")\n"
     ]
    },
    {
     "name": "stdout",
     "output_type": "stream",
     "text": [
      "[LightGBM] [Warning] Found whitespace in feature_names, replace with underlines\n",
      "[LightGBM] [Info] Number of positive: 3482, number of negative: 3472\n",
      "[LightGBM] [Warning] Auto-choosing col-wise multi-threading, the overhead of testing was 0.000641 seconds.\n",
      "You can set `force_col_wise=true` to remove the overhead.\n",
      "[LightGBM] [Info] Total Bins 1388\n",
      "[LightGBM] [Info] Number of data points in the train set: 6954, number of used features: 23\n",
      "[LightGBM] [Info] [binary:BoostFromScore]: pavg=0.500719 -> initscore=0.002876\n",
      "[LightGBM] [Info] Start training from score 0.002876\n"
     ]
    },
    {
     "name": "stderr",
     "output_type": "stream",
     "text": [
      "c:\\Users\\111\\AppData\\Local\\Programs\\Python\\Python38\\lib\\site-packages\\lightgbm\\engine.py:172: UserWarning: Found `num_iterations` in params. Will use it instead of argument\n",
      "  _log_warning(f\"Found `{alias}` in params. Will use it instead of argument\")\n"
     ]
    },
    {
     "name": "stdout",
     "output_type": "stream",
     "text": [
      "[LightGBM] [Warning] Found whitespace in feature_names, replace with underlines\n",
      "[LightGBM] [Info] Number of positive: 2786, number of negative: 2777\n",
      "[LightGBM] [Warning] Auto-choosing row-wise multi-threading, the overhead of testing was 0.000245 seconds.\n",
      "You can set `force_row_wise=true` to remove the overhead.\n",
      "And if memory is not enough, you can set `force_col_wise=true`.\n",
      "[LightGBM] [Info] Total Bins 1388\n",
      "[LightGBM] [Info] Number of data points in the train set: 5563, number of used features: 23\n",
      "[LightGBM] [Info] [binary:BoostFromScore]: pavg=0.500809 -> initscore=0.003236\n",
      "[LightGBM] [Info] Start training from score 0.003236\n"
     ]
    },
    {
     "name": "stderr",
     "output_type": "stream",
     "text": [
      "c:\\Users\\111\\AppData\\Local\\Programs\\Python\\Python38\\lib\\site-packages\\lightgbm\\engine.py:172: UserWarning: Found `num_iterations` in params. Will use it instead of argument\n",
      "  _log_warning(f\"Found `{alias}` in params. Will use it instead of argument\")\n"
     ]
    },
    {
     "name": "stdout",
     "output_type": "stream",
     "text": [
      "[LightGBM] [Warning] Found whitespace in feature_names, replace with underlines\n",
      "[LightGBM] [Info] Number of positive: 2786, number of negative: 2777\n",
      "[LightGBM] [Warning] Auto-choosing col-wise multi-threading, the overhead of testing was 0.000543 seconds.\n",
      "You can set `force_col_wise=true` to remove the overhead.\n",
      "[LightGBM] [Info] Total Bins 1387\n",
      "[LightGBM] [Info] Number of data points in the train set: 5563, number of used features: 23\n",
      "[LightGBM] [Info] [binary:BoostFromScore]: pavg=0.500809 -> initscore=0.003236\n",
      "[LightGBM] [Info] Start training from score 0.003236\n"
     ]
    },
    {
     "name": "stderr",
     "output_type": "stream",
     "text": [
      "c:\\Users\\111\\AppData\\Local\\Programs\\Python\\Python38\\lib\\site-packages\\lightgbm\\engine.py:172: UserWarning: Found `num_iterations` in params. Will use it instead of argument\n",
      "  _log_warning(f\"Found `{alias}` in params. Will use it instead of argument\")\n"
     ]
    },
    {
     "name": "stdout",
     "output_type": "stream",
     "text": [
      "[LightGBM] [Warning] Found whitespace in feature_names, replace with underlines\n",
      "[LightGBM] [Info] Number of positive: 2785, number of negative: 2778\n",
      "[LightGBM] [Warning] Auto-choosing row-wise multi-threading, the overhead of testing was 0.000170 seconds.\n",
      "You can set `force_row_wise=true` to remove the overhead.\n",
      "And if memory is not enough, you can set `force_col_wise=true`.\n",
      "[LightGBM] [Info] Total Bins 1385\n",
      "[LightGBM] [Info] Number of data points in the train set: 5563, number of used features: 23\n",
      "[LightGBM] [Info] [binary:BoostFromScore]: pavg=0.500629 -> initscore=0.002517\n",
      "[LightGBM] [Info] Start training from score 0.002517\n",
      "[LightGBM] [Warning] Found whitespace in feature_names, replace with underlines\n",
      "[LightGBM] [Info] Number of positive: 2785, number of negative: 2778\n",
      "[LightGBM] [Warning] Auto-choosing row-wise multi-threading, the overhead of testing was 0.000208 seconds.\n",
      "You can set `force_row_wise=true` to remove the overhead.\n",
      "And if memory is not enough, you can set `force_col_wise=true`.\n",
      "[LightGBM] [Info] Total Bins 1387\n",
      "[LightGBM] [Info] Number of data points in the train set: 5563, number of used features: 23\n",
      "[LightGBM] [Info] [binary:BoostFromScore]: pavg=0.500629 -> initscore=0.002517\n",
      "[LightGBM] [Info] Start training from score 0.002517\n"
     ]
    },
    {
     "name": "stderr",
     "output_type": "stream",
     "text": [
      "c:\\Users\\111\\AppData\\Local\\Programs\\Python\\Python38\\lib\\site-packages\\lightgbm\\engine.py:172: UserWarning: Found `num_iterations` in params. Will use it instead of argument\n",
      "  _log_warning(f\"Found `{alias}` in params. Will use it instead of argument\")\n",
      "c:\\Users\\111\\AppData\\Local\\Programs\\Python\\Python38\\lib\\site-packages\\lightgbm\\engine.py:172: UserWarning: Found `num_iterations` in params. Will use it instead of argument\n",
      "  _log_warning(f\"Found `{alias}` in params. Will use it instead of argument\")\n"
     ]
    },
    {
     "name": "stdout",
     "output_type": "stream",
     "text": [
      "[LightGBM] [Warning] Found whitespace in feature_names, replace with underlines\n",
      "[LightGBM] [Info] Number of positive: 2786, number of negative: 2778\n",
      "[LightGBM] [Warning] Auto-choosing col-wise multi-threading, the overhead of testing was 0.000550 seconds.\n",
      "You can set `force_col_wise=true` to remove the overhead.\n",
      "[LightGBM] [Info] Total Bins 1387\n",
      "[LightGBM] [Info] Number of data points in the train set: 5564, number of used features: 23\n",
      "[LightGBM] [Info] [binary:BoostFromScore]: pavg=0.500719 -> initscore=0.002876\n",
      "[LightGBM] [Info] Start training from score 0.002876\n"
     ]
    },
    {
     "data": {
      "text/plain": [
       "0.8131109833237493"
      ]
     },
     "execution_count": 54,
     "metadata": {},
     "output_type": "execute_result"
    }
   ],
   "source": [
    "# stack but sklearn\n",
    "from sklearn.ensemble import StackingClassifier\n",
    "estimators = [('lgbmc', lgbmc), ('hgbc', hgbc), ('gbc', gbc), ('random_forest', random_forest), ('decision_tree', decision_tree)]\n",
    "stacking_clf = StackingClassifier(estimators=estimators, final_estimator=lr)\n",
    "stacking_clf.fit(x_train, y_train)\n",
    "stacking_pred = stacking_clf.predict(x_test)\n",
    "\n",
    "stacking_accuracy = accuracy_score(stacking_pred, y_test)\n",
    "stacking_accuracy"
   ]
  },
  {
   "cell_type": "code",
   "execution_count": 55,
   "metadata": {},
   "outputs": [
    {
     "name": "stderr",
     "output_type": "stream",
     "text": [
      "c:\\Users\\111\\AppData\\Local\\Programs\\Python\\Python38\\lib\\site-packages\\lightgbm\\engine.py:172: UserWarning: Found `num_iterations` in params. Will use it instead of argument\n",
      "  _log_warning(f\"Found `{alias}` in params. Will use it instead of argument\")\n"
     ]
    },
    {
     "name": "stdout",
     "output_type": "stream",
     "text": [
      "[LightGBM] [Warning] Found whitespace in feature_names, replace with underlines\n",
      "[LightGBM] [Info] Number of positive: 2786, number of negative: 2777\n",
      "[LightGBM] [Warning] Auto-choosing col-wise multi-threading, the overhead of testing was 0.000593 seconds.\n",
      "You can set `force_col_wise=true` to remove the overhead.\n",
      "[LightGBM] [Info] Total Bins 1387\n",
      "[LightGBM] [Info] Number of data points in the train set: 5563, number of used features: 23\n",
      "[LightGBM] [Info] [binary:BoostFromScore]: pavg=0.500809 -> initscore=0.003236\n",
      "[LightGBM] [Info] Start training from score 0.003236\n"
     ]
    },
    {
     "name": "stderr",
     "output_type": "stream",
     "text": [
      "c:\\Users\\111\\AppData\\Local\\Programs\\Python\\Python38\\lib\\site-packages\\lightgbm\\engine.py:172: UserWarning: Found `num_iterations` in params. Will use it instead of argument\n",
      "  _log_warning(f\"Found `{alias}` in params. Will use it instead of argument\")\n"
     ]
    },
    {
     "name": "stdout",
     "output_type": "stream",
     "text": [
      "[LightGBM] [Warning] Found whitespace in feature_names, replace with underlines\n",
      "[LightGBM] [Info] Number of positive: 2786, number of negative: 2777\n",
      "[LightGBM] [Warning] Auto-choosing row-wise multi-threading, the overhead of testing was 0.000304 seconds.\n",
      "You can set `force_row_wise=true` to remove the overhead.\n",
      "And if memory is not enough, you can set `force_col_wise=true`.\n",
      "[LightGBM] [Info] Total Bins 1387\n",
      "[LightGBM] [Info] Number of data points in the train set: 5563, number of used features: 23\n",
      "[LightGBM] [Info] [binary:BoostFromScore]: pavg=0.500809 -> initscore=0.003236\n",
      "[LightGBM] [Info] Start training from score 0.003236\n"
     ]
    },
    {
     "name": "stderr",
     "output_type": "stream",
     "text": [
      "c:\\Users\\111\\AppData\\Local\\Programs\\Python\\Python38\\lib\\site-packages\\lightgbm\\engine.py:172: UserWarning: Found `num_iterations` in params. Will use it instead of argument\n",
      "  _log_warning(f\"Found `{alias}` in params. Will use it instead of argument\")\n"
     ]
    },
    {
     "name": "stdout",
     "output_type": "stream",
     "text": [
      "[LightGBM] [Warning] Found whitespace in feature_names, replace with underlines\n",
      "[LightGBM] [Info] Number of positive: 2785, number of negative: 2778\n",
      "[LightGBM] [Warning] Auto-choosing row-wise multi-threading, the overhead of testing was 0.000354 seconds.\n",
      "You can set `force_row_wise=true` to remove the overhead.\n",
      "And if memory is not enough, you can set `force_col_wise=true`.\n",
      "[LightGBM] [Info] Total Bins 1387\n",
      "[LightGBM] [Info] Number of data points in the train set: 5563, number of used features: 23\n",
      "[LightGBM] [Info] [binary:BoostFromScore]: pavg=0.500629 -> initscore=0.002517\n",
      "[LightGBM] [Info] Start training from score 0.002517\n"
     ]
    },
    {
     "name": "stderr",
     "output_type": "stream",
     "text": [
      "c:\\Users\\111\\AppData\\Local\\Programs\\Python\\Python38\\lib\\site-packages\\lightgbm\\engine.py:172: UserWarning: Found `num_iterations` in params. Will use it instead of argument\n",
      "  _log_warning(f\"Found `{alias}` in params. Will use it instead of argument\")\n"
     ]
    },
    {
     "name": "stdout",
     "output_type": "stream",
     "text": [
      "[LightGBM] [Warning] Found whitespace in feature_names, replace with underlines\n",
      "[LightGBM] [Info] Number of positive: 2785, number of negative: 2778\n",
      "[LightGBM] [Warning] Auto-choosing col-wise multi-threading, the overhead of testing was 0.000575 seconds.\n",
      "You can set `force_col_wise=true` to remove the overhead.\n",
      "[LightGBM] [Info] Total Bins 1388\n",
      "[LightGBM] [Info] Number of data points in the train set: 5563, number of used features: 23\n",
      "[LightGBM] [Info] [binary:BoostFromScore]: pavg=0.500629 -> initscore=0.002517\n",
      "[LightGBM] [Info] Start training from score 0.002517\n"
     ]
    },
    {
     "name": "stderr",
     "output_type": "stream",
     "text": [
      "c:\\Users\\111\\AppData\\Local\\Programs\\Python\\Python38\\lib\\site-packages\\lightgbm\\engine.py:172: UserWarning: Found `num_iterations` in params. Will use it instead of argument\n",
      "  _log_warning(f\"Found `{alias}` in params. Will use it instead of argument\")\n"
     ]
    },
    {
     "name": "stdout",
     "output_type": "stream",
     "text": [
      "[LightGBM] [Warning] Found whitespace in feature_names, replace with underlines\n",
      "[LightGBM] [Info] Number of positive: 2786, number of negative: 2778\n",
      "[LightGBM] [Warning] Auto-choosing col-wise multi-threading, the overhead of testing was 0.000194 seconds.\n",
      "You can set `force_col_wise=true` to remove the overhead.\n",
      "[LightGBM] [Info] Total Bins 1387\n",
      "[LightGBM] [Info] Number of data points in the train set: 5564, number of used features: 23\n",
      "[LightGBM] [Info] [binary:BoostFromScore]: pavg=0.500719 -> initscore=0.002876\n",
      "[LightGBM] [Info] Start training from score 0.002876\n"
     ]
    },
    {
     "name": "stderr",
     "output_type": "stream",
     "text": [
      "c:\\Users\\111\\AppData\\Local\\Programs\\Python\\Python38\\lib\\site-packages\\lightgbm\\engine.py:172: UserWarning: Found `num_iterations` in params. Will use it instead of argument\n",
      "  _log_warning(f\"Found `{alias}` in params. Will use it instead of argument\")\n"
     ]
    },
    {
     "name": "stdout",
     "output_type": "stream",
     "text": [
      "[LightGBM] [Warning] Found whitespace in feature_names, replace with underlines\n",
      "[LightGBM] [Info] Number of positive: 3482, number of negative: 3472\n",
      "[LightGBM] [Warning] Auto-choosing row-wise multi-threading, the overhead of testing was 0.000327 seconds.\n",
      "You can set `force_row_wise=true` to remove the overhead.\n",
      "And if memory is not enough, you can set `force_col_wise=true`.\n",
      "[LightGBM] [Info] Total Bins 1388\n",
      "[LightGBM] [Info] Number of data points in the train set: 6954, number of used features: 23\n",
      "[LightGBM] [Info] [binary:BoostFromScore]: pavg=0.500719 -> initscore=0.002876\n",
      "[LightGBM] [Info] Start training from score 0.002876\n"
     ]
    },
    {
     "name": "stderr",
     "output_type": "stream",
     "text": [
      "c:\\Users\\111\\AppData\\Local\\Programs\\Python\\Python38\\lib\\site-packages\\lightgbm\\engine.py:172: UserWarning: Found `num_iterations` in params. Will use it instead of argument\n",
      "  _log_warning(f\"Found `{alias}` in params. Will use it instead of argument\")\n"
     ]
    },
    {
     "name": "stdout",
     "output_type": "stream",
     "text": [
      "[LightGBM] [Warning] Found whitespace in feature_names, replace with underlines\n",
      "[LightGBM] [Info] Number of positive: 3482, number of negative: 3472\n",
      "[LightGBM] [Warning] Auto-choosing row-wise multi-threading, the overhead of testing was 0.000291 seconds.\n",
      "You can set `force_row_wise=true` to remove the overhead.\n",
      "And if memory is not enough, you can set `force_col_wise=true`.\n",
      "[LightGBM] [Info] Total Bins 1388\n",
      "[LightGBM] [Info] Number of data points in the train set: 6954, number of used features: 23\n",
      "[LightGBM] [Info] [binary:BoostFromScore]: pavg=0.500719 -> initscore=0.002876\n",
      "[LightGBM] [Info] Start training from score 0.002876\n"
     ]
    },
    {
     "name": "stderr",
     "output_type": "stream",
     "text": [
      "c:\\Users\\111\\AppData\\Local\\Programs\\Python\\Python38\\lib\\site-packages\\lightgbm\\engine.py:172: UserWarning: Found `num_iterations` in params. Will use it instead of argument\n",
      "  _log_warning(f\"Found `{alias}` in params. Will use it instead of argument\")\n"
     ]
    },
    {
     "name": "stdout",
     "output_type": "stream",
     "text": [
      "[LightGBM] [Warning] Found whitespace in feature_names, replace with underlines\n",
      "[LightGBM] [Info] Number of positive: 2786, number of negative: 2777\n",
      "[LightGBM] [Warning] Auto-choosing row-wise multi-threading, the overhead of testing was 0.000263 seconds.\n",
      "You can set `force_row_wise=true` to remove the overhead.\n",
      "And if memory is not enough, you can set `force_col_wise=true`.\n",
      "[LightGBM] [Info] Total Bins 1388\n",
      "[LightGBM] [Info] Number of data points in the train set: 5563, number of used features: 23\n",
      "[LightGBM] [Info] [binary:BoostFromScore]: pavg=0.500809 -> initscore=0.003236\n",
      "[LightGBM] [Info] Start training from score 0.003236\n"
     ]
    },
    {
     "name": "stderr",
     "output_type": "stream",
     "text": [
      "c:\\Users\\111\\AppData\\Local\\Programs\\Python\\Python38\\lib\\site-packages\\lightgbm\\engine.py:172: UserWarning: Found `num_iterations` in params. Will use it instead of argument\n",
      "  _log_warning(f\"Found `{alias}` in params. Will use it instead of argument\")\n"
     ]
    },
    {
     "name": "stdout",
     "output_type": "stream",
     "text": [
      "[LightGBM] [Warning] Found whitespace in feature_names, replace with underlines\n",
      "[LightGBM] [Info] Number of positive: 2786, number of negative: 2777\n",
      "[LightGBM] [Warning] Auto-choosing col-wise multi-threading, the overhead of testing was 0.000584 seconds.\n",
      "You can set `force_col_wise=true` to remove the overhead.\n",
      "[LightGBM] [Info] Total Bins 1387\n",
      "[LightGBM] [Info] Number of data points in the train set: 5563, number of used features: 23\n",
      "[LightGBM] [Info] [binary:BoostFromScore]: pavg=0.500809 -> initscore=0.003236\n",
      "[LightGBM] [Info] Start training from score 0.003236\n"
     ]
    },
    {
     "name": "stderr",
     "output_type": "stream",
     "text": [
      "c:\\Users\\111\\AppData\\Local\\Programs\\Python\\Python38\\lib\\site-packages\\lightgbm\\engine.py:172: UserWarning: Found `num_iterations` in params. Will use it instead of argument\n",
      "  _log_warning(f\"Found `{alias}` in params. Will use it instead of argument\")\n"
     ]
    },
    {
     "name": "stdout",
     "output_type": "stream",
     "text": [
      "[LightGBM] [Warning] Found whitespace in feature_names, replace with underlines\n",
      "[LightGBM] [Info] Number of positive: 2785, number of negative: 2778\n",
      "[LightGBM] [Warning] Auto-choosing col-wise multi-threading, the overhead of testing was 0.000270 seconds.\n",
      "You can set `force_col_wise=true` to remove the overhead.\n",
      "[LightGBM] [Info] Total Bins 1385\n",
      "[LightGBM] [Info] Number of data points in the train set: 5563, number of used features: 23\n",
      "[LightGBM] [Info] [binary:BoostFromScore]: pavg=0.500629 -> initscore=0.002517\n",
      "[LightGBM] [Info] Start training from score 0.002517\n"
     ]
    },
    {
     "name": "stderr",
     "output_type": "stream",
     "text": [
      "c:\\Users\\111\\AppData\\Local\\Programs\\Python\\Python38\\lib\\site-packages\\lightgbm\\engine.py:172: UserWarning: Found `num_iterations` in params. Will use it instead of argument\n",
      "  _log_warning(f\"Found `{alias}` in params. Will use it instead of argument\")\n"
     ]
    },
    {
     "name": "stdout",
     "output_type": "stream",
     "text": [
      "[LightGBM] [Warning] Found whitespace in feature_names, replace with underlines\n",
      "[LightGBM] [Info] Number of positive: 2785, number of negative: 2778\n",
      "[LightGBM] [Warning] Auto-choosing row-wise multi-threading, the overhead of testing was 0.000205 seconds.\n",
      "You can set `force_row_wise=true` to remove the overhead.\n",
      "And if memory is not enough, you can set `force_col_wise=true`.\n",
      "[LightGBM] [Info] Total Bins 1387\n",
      "[LightGBM] [Info] Number of data points in the train set: 5563, number of used features: 23\n",
      "[LightGBM] [Info] [binary:BoostFromScore]: pavg=0.500629 -> initscore=0.002517\n",
      "[LightGBM] [Info] Start training from score 0.002517\n"
     ]
    },
    {
     "name": "stderr",
     "output_type": "stream",
     "text": [
      "c:\\Users\\111\\AppData\\Local\\Programs\\Python\\Python38\\lib\\site-packages\\lightgbm\\engine.py:172: UserWarning: Found `num_iterations` in params. Will use it instead of argument\n",
      "  _log_warning(f\"Found `{alias}` in params. Will use it instead of argument\")\n"
     ]
    },
    {
     "name": "stdout",
     "output_type": "stream",
     "text": [
      "[LightGBM] [Warning] Found whitespace in feature_names, replace with underlines\n",
      "[LightGBM] [Info] Number of positive: 2786, number of negative: 2778\n",
      "[LightGBM] [Warning] Auto-choosing row-wise multi-threading, the overhead of testing was 0.000269 seconds.\n",
      "You can set `force_row_wise=true` to remove the overhead.\n",
      "And if memory is not enough, you can set `force_col_wise=true`.\n",
      "[LightGBM] [Info] Total Bins 1387\n",
      "[LightGBM] [Info] Number of data points in the train set: 5564, number of used features: 23\n",
      "[LightGBM] [Info] [binary:BoostFromScore]: pavg=0.500719 -> initscore=0.002876\n",
      "[LightGBM] [Info] Start training from score 0.002876\n"
     ]
    },
    {
     "name": "stderr",
     "output_type": "stream",
     "text": [
      "c:\\Users\\111\\AppData\\Local\\Programs\\Python\\Python38\\lib\\site-packages\\lightgbm\\engine.py:172: UserWarning: Found `num_iterations` in params. Will use it instead of argument\n",
      "  _log_warning(f\"Found `{alias}` in params. Will use it instead of argument\")\n"
     ]
    },
    {
     "name": "stdout",
     "output_type": "stream",
     "text": [
      "[LightGBM] [Warning] Found whitespace in feature_names, replace with underlines\n",
      "[LightGBM] [Info] Number of positive: 3482, number of negative: 3472\n",
      "[LightGBM] [Warning] Auto-choosing row-wise multi-threading, the overhead of testing was 0.000309 seconds.\n",
      "You can set `force_row_wise=true` to remove the overhead.\n",
      "And if memory is not enough, you can set `force_col_wise=true`.\n",
      "[LightGBM] [Info] Total Bins 1388\n",
      "[LightGBM] [Info] Number of data points in the train set: 6954, number of used features: 23\n",
      "[LightGBM] [Info] [binary:BoostFromScore]: pavg=0.500719 -> initscore=0.002876\n",
      "[LightGBM] [Info] Start training from score 0.002876\n"
     ]
    },
    {
     "data": {
      "text/plain": [
       "0.8131109833237493"
      ]
     },
     "execution_count": 55,
     "metadata": {},
     "output_type": "execute_result"
    }
   ],
   "source": [
    "# 无限套娃\n",
    "estimators = [('sclf', sclf), ('stacking_clf', stacking_clf), ('voting_clf', voting_clf)]\n",
    "voting_clf1 = VotingClassifier(estimators=estimators, voting='soft')\n",
    "voting_clf1.fit(x_train, y_train)\n",
    "voting_pred = voting_clf1.predict(x_test)\n",
    "voting_accuracy = accuracy_score(voting_pred, y_test)\n",
    "voting_accuracy\n"
   ]
  },
  {
   "cell_type": "code",
   "execution_count": 65,
   "metadata": {},
   "outputs": [],
   "source": [
    "# 模型提交\n",
    "\n",
    "sample = pd.read_csv('./spaceship-titanic/sample_submission.csv')\n",
    "sample['Transported'] = decision_tree.predict(test).astype(bool)\n",
    "sample.to_csv('submission.csv', index=False)"
   ]
  },
  {
   "cell_type": "markdown",
   "metadata": {},
   "source": [
    "模型融合，这里就采用最简单的vote吧，后续可以尝试stack"
   ]
  }
 ],
 "metadata": {
  "kernelspec": {
   "display_name": "Python 3.8.2 64-bit",
   "language": "python",
   "name": "python3"
  },
  "language_info": {
   "codemirror_mode": {
    "name": "ipython",
    "version": 3
   },
   "file_extension": ".py",
   "mimetype": "text/x-python",
   "name": "python",
   "nbconvert_exporter": "python",
   "pygments_lexer": "ipython3",
   "version": "3.8.2"
  },
  "orig_nbformat": 4,
  "vscode": {
   "interpreter": {
    "hash": "6eaea64310228e9f754520128e4f9a6259bb26f5c3839fa5dce3903f5873b011"
   }
  }
 },
 "nbformat": 4,
 "nbformat_minor": 2
}
